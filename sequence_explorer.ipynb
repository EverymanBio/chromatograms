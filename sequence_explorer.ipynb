{
 "cells": [
  {
   "cell_type": "markdown",
   "metadata": {},
   "source": [
    "# DNA Sequence Data Explorer"
   ]
  },
  {
   "cell_type": "markdown",
   "metadata": {},
   "source": [
    "Let's open an .ab1 file, aka trace file, aka chromatogram, using [BioPython](https://biopython.org/https://biopython.org/)."
   ]
  },
  {
   "cell_type": "code",
   "execution_count": 148,
   "metadata": {},
   "outputs": [
    {
     "data": {
      "application/vnd.jupyter.widget-view+json": {
       "model_id": "45a52ceb21a5481ba7e46b240b224f54",
       "version_major": 2,
       "version_minor": 0
      },
      "text/plain": [
       "Dropdown(options=('black.grainy.mold-ITS1-F.ab1', 'Cordycep-ITS1-F.ab1', 'dense.green.mold-ITS1-F.ab1', 'dense…"
      ]
     },
     "metadata": {},
     "output_type": "display_data"
    }
   ],
   "source": [
    "import os\n",
    "from ipywidgets import widgets\n",
    "\n",
    "sequence_dropdown = widgets.Dropdown(options=os.listdir('./trace_files'))\n",
    "display(sequence_dropdown)"
   ]
  },
  {
   "cell_type": "markdown",
   "metadata": {},
   "source": [
    "Let's take a look at some of the annotation data in the file."
   ]
  },
  {
   "cell_type": "code",
   "execution_count": 141,
   "metadata": {},
   "outputs": [],
   "source": [
    "import pandas as pd\n",
    "from Bio import SeqIO\n",
    "\n",
    "selected_file = sequence_dropdown.value\n",
    "selected_file_path = './trace_files/{}'.format(selected_file)"
   ]
  },
  {
   "cell_type": "code",
   "execution_count": 149,
   "metadata": {},
   "outputs": [
    {
     "data": {
      "text/html": [
       "<div>\n",
       "<style scoped>\n",
       "    .dataframe tbody tr th:only-of-type {\n",
       "        vertical-align: middle;\n",
       "    }\n",
       "\n",
       "    .dataframe tbody tr th {\n",
       "        vertical-align: top;\n",
       "    }\n",
       "\n",
       "    .dataframe thead th {\n",
       "        text-align: right;\n",
       "    }\n",
       "</style>\n",
       "<table border=\"1\" class=\"dataframe\">\n",
       "  <thead>\n",
       "    <tr style=\"text-align: right;\">\n",
       "      <th></th>\n",
       "      <th>Value</th>\n",
       "    </tr>\n",
       "  </thead>\n",
       "  <tbody>\n",
       "    <tr>\n",
       "      <th>sample_well</th>\n",
       "      <td>b'F11'</td>\n",
       "    </tr>\n",
       "    <tr>\n",
       "      <th>dye</th>\n",
       "      <td>b'Z-BigDyeV3'</td>\n",
       "    </tr>\n",
       "    <tr>\n",
       "      <th>polymer</th>\n",
       "      <td>b'POP7                            '</td>\n",
       "    </tr>\n",
       "    <tr>\n",
       "      <th>machine_model</th>\n",
       "      <td>b'3730'</td>\n",
       "    </tr>\n",
       "    <tr>\n",
       "      <th>run_start</th>\n",
       "      <td>2020-11-25 20:47:19</td>\n",
       "    </tr>\n",
       "    <tr>\n",
       "      <th>run_finish</th>\n",
       "      <td>2020-11-25 22:03:24</td>\n",
       "    </tr>\n",
       "    <tr>\n",
       "      <th>abif_raw</th>\n",
       "      <td>{'AEPt1': 11462, 'AEPt2': 11462, 'APFN2': b'KB...</td>\n",
       "    </tr>\n",
       "    <tr>\n",
       "      <th>molecule_type</th>\n",
       "      <td>DNA</td>\n",
       "    </tr>\n",
       "  </tbody>\n",
       "</table>\n",
       "</div>"
      ],
      "text/plain": [
       "                                                           Value\n",
       "sample_well                                               b'F11'\n",
       "dye                                                b'Z-BigDyeV3'\n",
       "polymer                      b'POP7                            '\n",
       "machine_model                                            b'3730'\n",
       "run_start                                    2020-11-25 20:47:19\n",
       "run_finish                                   2020-11-25 22:03:24\n",
       "abif_raw       {'AEPt1': 11462, 'AEPt2': 11462, 'APFN2': b'KB...\n",
       "molecule_type                                                DNA"
      ]
     },
     "metadata": {},
     "output_type": "display_data"
    }
   ],
   "source": [
    "chromatogram = SeqIO.read(selected_file_path, 'abi')\n",
    "\n",
    "annotations_df = pd.DataFrame.from_dict(chromatogram.annotations,\n",
    "                                        orient='index',\n",
    "                                        columns=['Value'])\n",
    "display(annotations_df)"
   ]
  },
  {
   "cell_type": "markdown",
   "metadata": {},
   "source": [
    "The chromatogram data lives in the `abif_raw` row. Let's take a closer look by mapping the keys in `abiif_raw` with the [ABIF File Format spec](docs/ABIF_File_Format.pdf)."
   ]
  },
  {
   "cell_type": "code",
   "execution_count": 154,
   "metadata": {},
   "outputs": [
    {
     "data": {
      "text/html": [
       "<div>\n",
       "<style scoped>\n",
       "    .dataframe tbody tr th:only-of-type {\n",
       "        vertical-align: middle;\n",
       "    }\n",
       "\n",
       "    .dataframe tbody tr th {\n",
       "        vertical-align: top;\n",
       "    }\n",
       "\n",
       "    .dataframe thead th {\n",
       "        text-align: right;\n",
       "    }\n",
       "</style>\n",
       "<table border=\"1\" class=\"dataframe\">\n",
       "  <thead>\n",
       "    <tr style=\"text-align: right;\">\n",
       "      <th></th>\n",
       "      <th>Raw Data Fields</th>\n",
       "    </tr>\n",
       "  </thead>\n",
       "  <tbody>\n",
       "    <tr>\n",
       "      <th>User</th>\n",
       "      <td>b'genewiz'</td>\n",
       "    </tr>\n",
       "    <tr>\n",
       "      <th>Stop Point</th>\n",
       "      <td>11462</td>\n",
       "    </tr>\n",
       "    <tr>\n",
       "      <th>Start Point</th>\n",
       "      <td>1695</td>\n",
       "    </tr>\n",
       "    <tr>\n",
       "      <th>Peak Area Ratio</th>\n",
       "      <td>-1</td>\n",
       "    </tr>\n",
       "    <tr>\n",
       "      <th>Peak Spacing</th>\n",
       "      <td>14.3178</td>\n",
       "    </tr>\n",
       "    <tr>\n",
       "      <th>Max Quality Value</th>\n",
       "      <td>99</td>\n",
       "    </tr>\n",
       "    <tr>\n",
       "      <th>Last Successful Analysis</th>\n",
       "      <td>b'2020-11-25 22:07:54 -05:00'</td>\n",
       "    </tr>\n",
       "    <tr>\n",
       "      <th>Signal Level for Each Dye</th>\n",
       "      <td>(57, 64, 72, 71)</td>\n",
       "    </tr>\n",
       "    <tr>\n",
       "      <th>Sample Comment</th>\n",
       "      <td>b'2377975-F11-JoshMcGinnis-30-449493217-JM9'</td>\n",
       "    </tr>\n",
       "    <tr>\n",
       "      <th>Container ID</th>\n",
       "      <td>b'09A000036479'</td>\n",
       "    </tr>\n",
       "    <tr>\n",
       "      <th>Container Name</th>\n",
       "      <td>b'2377975'</td>\n",
       "    </tr>\n",
       "    <tr>\n",
       "      <th>Container Owner</th>\n",
       "      <td>b'genewiz'</td>\n",
       "    </tr>\n",
       "  </tbody>\n",
       "</table>\n",
       "</div>"
      ],
      "text/plain": [
       "                                                        Raw Data Fields\n",
       "User                                                         b'genewiz'\n",
       "Stop Point                                                        11462\n",
       "Start Point                                                        1695\n",
       "Peak Area Ratio                                                      -1\n",
       "Peak Spacing                                                    14.3178\n",
       "Max Quality Value                                                    99\n",
       "Last Successful Analysis                  b'2020-11-25 22:07:54 -05:00'\n",
       "Signal Level for Each Dye                              (57, 64, 72, 71)\n",
       "Sample Comment             b'2377975-F11-JoshMcGinnis-30-449493217-JM9'\n",
       "Container ID                                            b'09A000036479'\n",
       "Container Name                                               b'2377975'\n",
       "Container Owner                                              b'genewiz'"
      ]
     },
     "execution_count": 154,
     "metadata": {},
     "output_type": "execute_result"
    }
   ],
   "source": [
    "abif_raw = annotations_df.loc['abif_raw']['Value']\n",
    "pd.DataFrame.from_dict({\n",
    "  'User':                      abif_raw['User1'],\n",
    "  'Stop Point':                abif_raw['AEPt1'],\n",
    "  'Start Point':               abif_raw['ASPt1'],\n",
    "  'Peak Area Ratio':           abif_raw['phAR1'],\n",
    "  'Peak Spacing':              abif_raw['SPAC3'],\n",
    "  'Max Quality Value':         abif_raw['phQL1'],\n",
    "  'Last Successful Analysis':  abif_raw['BCTS1'],\n",
    "  'Signal Level for Each Dye': abif_raw['S/N%1'],\n",
    "  'Sample Comment':            abif_raw['CMNT1'],\n",
    "  'Container ID':              abif_raw['CTID1'],\n",
    "  'Container Name':            abif_raw['CTNM1'],\n",
    "  'Container Owner':           abif_raw['CTOw1']},\n",
    "    orient='index',\n",
    "    columns=['Raw Data Fields'])"
   ]
  },
  {
   "cell_type": "markdown",
   "metadata": {},
   "source": [
    "### Now let's take a look at the sequence data"
   ]
  },
  {
   "cell_type": "code",
   "execution_count": 174,
   "metadata": {},
   "outputs": [
    {
     "name": "stdout",
     "output_type": "stream",
     "text": [
      "Total Bases: 603\n",
      "\n",
      "N N N N N N N N N N N N N N N N N N N N C N G N N N T N T N N N A N N A N N N C C C A C N N N N N A N N N N N A N N A G N N G G N N C A N A N A A A A C G C G G G G A N A A G A C N A N T T N N N N N A C C G C C T C C G A A C T C A T T T C T C C T C T N G A T N C N T T T A C N C T T T T C T A G A A T G N T N A T N G G C T G C N N C A T T T T T N C G T N C A C C T A T C G T G N T A A A A C A T T C A A C A T C C T A T C T C T G G N A C T G N T C T C T T A A A C T A A A T T G N N N A N G N N T G T T A T G A N N N N A T C T T A A A A C T T C C N T T N C G C A C C C A G G C A T T C N C C C C C C C T T G C C T C C T C C A N C G T T A T T T C A C G C C T C C C T G C T C N A N T G N C A T T G C A A C C N T C G A C T T C C T G T T G N N N A A N T N N N N A C C N G N G A C N N C T T C T G T C C C C T A N G C C C N G A G G G N N T A T T C G N T A A A G G N G G T T C G A N A G G C T A C G C C N T N C A A C N C N C C C A T T T C T A C C G C N G A G T G C N N A C C C N G T A N G G A T C C C C A C T T A C C T T A N N T N G T C T N C N N A T C A G G N A N N A A T A C C C G C T G A A C T T A A G A A G A N A T N A A C G N N G N A A G A N N N C T G T G G G G A N A N G N N N N C A T A G N N N N T G N N G T G\n"
     ]
    }
   ],
   "source": [
    "sequence = abif_raw['PBAS1'].decode('UTF-8')\n",
    "sequence_list = list(sequence)\n",
    "\n",
    "print(\"Total Bases: {}\\n\\n{}\".format(len(sequence), ' '.join(sequence_list)))"
   ]
  },
  {
   "cell_type": "markdown",
   "metadata": {},
   "source": [
    "Let's summarize the bases so we can look at things like the total number of `N` (bases which could not be determine)."
   ]
  },
  {
   "cell_type": "code",
   "execution_count": 239,
   "metadata": {},
   "outputs": [
    {
     "data": {
      "text/html": [
       "<style  type=\"text/css\" >\n",
       "</style><table id=\"T_a2f3f93e_367c_11eb_bff0_3370594b50f0\" ><thead>    <tr>        <th class=\"blank level0\" ></th>        <th class=\"col_heading level0 col0\" >Total</th>        <th class=\"col_heading level0 col1\" >Percent of Total</th>    </tr></thead><tbody>\n",
       "                <tr>\n",
       "                        <th id=\"T_a2f3f93e_367c_11eb_bff0_3370594b50f0level0_row0\" class=\"row_heading level0 row0\" >N</th>\n",
       "                        <td id=\"T_a2f3f93e_367c_11eb_bff0_3370594b50f0row0_col0\" class=\"data row0 col0\" >148</td>\n",
       "                        <td id=\"T_a2f3f93e_367c_11eb_bff0_3370594b50f0row0_col1\" class=\"data row0 col1\" >24.54%</td>\n",
       "            </tr>\n",
       "            <tr>\n",
       "                        <th id=\"T_a2f3f93e_367c_11eb_bff0_3370594b50f0level0_row1\" class=\"row_heading level0 row1\" >C</th>\n",
       "                        <td id=\"T_a2f3f93e_367c_11eb_bff0_3370594b50f0row1_col0\" class=\"data row1 col0\" >136</td>\n",
       "                        <td id=\"T_a2f3f93e_367c_11eb_bff0_3370594b50f0row1_col1\" class=\"data row1 col1\" >22.55%</td>\n",
       "            </tr>\n",
       "            <tr>\n",
       "                        <th id=\"T_a2f3f93e_367c_11eb_bff0_3370594b50f0level0_row2\" class=\"row_heading level0 row2\" >T</th>\n",
       "                        <td id=\"T_a2f3f93e_367c_11eb_bff0_3370594b50f0row2_col0\" class=\"data row2 col0\" >123</td>\n",
       "                        <td id=\"T_a2f3f93e_367c_11eb_bff0_3370594b50f0row2_col1\" class=\"data row2 col1\" >20.40%</td>\n",
       "            </tr>\n",
       "            <tr>\n",
       "                        <th id=\"T_a2f3f93e_367c_11eb_bff0_3370594b50f0level0_row3\" class=\"row_heading level0 row3\" >A</th>\n",
       "                        <td id=\"T_a2f3f93e_367c_11eb_bff0_3370594b50f0row3_col0\" class=\"data row3 col0\" >112</td>\n",
       "                        <td id=\"T_a2f3f93e_367c_11eb_bff0_3370594b50f0row3_col1\" class=\"data row3 col1\" >18.57%</td>\n",
       "            </tr>\n",
       "            <tr>\n",
       "                        <th id=\"T_a2f3f93e_367c_11eb_bff0_3370594b50f0level0_row4\" class=\"row_heading level0 row4\" >G</th>\n",
       "                        <td id=\"T_a2f3f93e_367c_11eb_bff0_3370594b50f0row4_col0\" class=\"data row4 col0\" >84</td>\n",
       "                        <td id=\"T_a2f3f93e_367c_11eb_bff0_3370594b50f0row4_col1\" class=\"data row4 col1\" >13.93%</td>\n",
       "            </tr>\n",
       "    </tbody></table>"
      ],
      "text/plain": [
       "<pandas.io.formats.style.Styler at 0x7fe772915100>"
      ]
     },
     "metadata": {},
     "output_type": "display_data"
    }
   ],
   "source": [
    "sdf = pd.DataFrame(sequence_list, columns=['BASE'])\n",
    "summary_sdf = pd.DataFrame(sdf['BASE'].value_counts())\n",
    "summary_sdf.rename(columns={'BASE': 'Total'}, inplace=True)\n",
    "summary_sdf['Percent of Total'] = summary_sdf['Total'] / summary_sdf['Total'].sum()\n",
    "\n",
    "summary_sdf_style = summary_sdf.style.format({ 'Percent of Total': \"{:.2%}\"})\n",
    "display(summary_sdf_style)"
   ]
  },
  {
   "cell_type": "markdown",
   "metadata": {},
   "source": [
    "### Let's take a look at the Phred (_quality_) scores for the bases in the sequence."
   ]
  },
  {
   "cell_type": "code",
   "execution_count": 153,
   "metadata": {},
   "outputs": [
    {
     "data": {
      "application/vnd.jupyter.widget-view+json": {
       "model_id": "f0ca6cf24dfe4ffb919fcbd529333de4",
       "version_major": 2,
       "version_minor": 0
      },
      "text/plain": [
       "Canvas(toolbar=Toolbar(toolitems=[('Home', 'Reset original view', 'home', 'home'), ('Back', 'Back to previous …"
      ]
     },
     "metadata": {},
     "output_type": "display_data"
    }
   ],
   "source": [
    "%matplotlib widget\n",
    "\n",
    "import matplotlib.pyplot as plt\n",
    "from matplotlib.widgets import Slider\n",
    "\n",
    "plt.style.use('seaborn-notebook')\n",
    "plt.rcParams.update({ 'xtick.labelsize': 11 })\n",
    "\n",
    "fig = plt.figure(figsize=(9,2.2))\n",
    "\n",
    "# position the main graph and slider boxes\n",
    "main_axis = plt.axes([0.05, 0.45, 0.9, 0.50]) # left bottom width height\n",
    "slider_axis = plt.axes([0.17, 0.15, 0.75, 0.06])\n",
    "\n",
    "quality_scores = chromatogram.letter_annotations['phred_quality']\n",
    "valstep = 50\n",
    "\n",
    "def build_bar_plot(start, end):\n",
    "    main_axis.clear()\n",
    "\n",
    "    seq = sequence_list[start:end]\n",
    "    ticks = range(len(seq))\n",
    "    \n",
    "    main_axis.set_ylim(0)\n",
    "    main_axis.set_xlim(0)\n",
    "    main_axis.set_yticks([0, 20, 40, 60, 80])\n",
    "    main_axis.set_xticks(ticks)\n",
    "    main_axis.set_xticklabels(seq)\n",
    "    \n",
    "    main_axis.bar(ticks, quality_scores[start:end], align='center')\n",
    "    plt.show()\n",
    "    \n",
    "# make the slider\n",
    "q_slider = Slider(ax=slider_axis,\n",
    "                  label='Click to Scroll', \n",
    "                  valmin=valstep, \n",
    "                  valmax=len(quality_scores),\n",
    "                  valinit=valstep,\n",
    "                  valstep=valstep)\n",
    "\n",
    "def update(val):\n",
    "    start = val - valstep\n",
    "    build_bar_plot(start, val)\n",
    "    \n",
    "q_slider.on_changed(update)\n",
    "build_bar_plot(0, valstep)"
   ]
  },
  {
   "cell_type": "markdown",
   "metadata": {},
   "source": [
    "Note how the beginning and the ends of the quality scores taper off. Let's look at some general summary data of the quality scores."
   ]
  },
  {
   "cell_type": "code",
   "execution_count": 147,
   "metadata": {},
   "outputs": [
    {
     "data": {
      "text/html": [
       "<div>\n",
       "<style scoped>\n",
       "    .dataframe tbody tr th:only-of-type {\n",
       "        vertical-align: middle;\n",
       "    }\n",
       "\n",
       "    .dataframe tbody tr th {\n",
       "        vertical-align: top;\n",
       "    }\n",
       "\n",
       "    .dataframe thead th {\n",
       "        text-align: right;\n",
       "    }\n",
       "</style>\n",
       "<table border=\"1\" class=\"dataframe\">\n",
       "  <thead>\n",
       "    <tr style=\"text-align: right;\">\n",
       "      <th></th>\n",
       "      <th>0</th>\n",
       "    </tr>\n",
       "  </thead>\n",
       "  <tbody>\n",
       "    <tr>\n",
       "      <th>count</th>\n",
       "      <td>603.000000</td>\n",
       "    </tr>\n",
       "    <tr>\n",
       "      <th>mean</th>\n",
       "      <td>12.479270</td>\n",
       "    </tr>\n",
       "    <tr>\n",
       "      <th>std</th>\n",
       "      <td>5.736531</td>\n",
       "    </tr>\n",
       "    <tr>\n",
       "      <th>min</th>\n",
       "      <td>2.000000</td>\n",
       "    </tr>\n",
       "    <tr>\n",
       "      <th>25%</th>\n",
       "      <td>10.000000</td>\n",
       "    </tr>\n",
       "    <tr>\n",
       "      <th>50%</th>\n",
       "      <td>12.000000</td>\n",
       "    </tr>\n",
       "    <tr>\n",
       "      <th>75%</th>\n",
       "      <td>13.000000</td>\n",
       "    </tr>\n",
       "    <tr>\n",
       "      <th>max</th>\n",
       "      <td>43.000000</td>\n",
       "    </tr>\n",
       "  </tbody>\n",
       "</table>\n",
       "</div>"
      ],
      "text/plain": [
       "                0\n",
       "count  603.000000\n",
       "mean    12.479270\n",
       "std      5.736531\n",
       "min      2.000000\n",
       "25%     10.000000\n",
       "50%     12.000000\n",
       "75%     13.000000\n",
       "max     43.000000"
      ]
     },
     "execution_count": 147,
     "metadata": {},
     "output_type": "execute_result"
    }
   ],
   "source": [
    "quality_scores_df = pd.DataFrame(quality_scores)\n",
    "quality_scores_df.describe()"
   ]
  },
  {
   "cell_type": "code",
   "execution_count": null,
   "metadata": {},
   "outputs": [],
   "source": []
  }
 ],
 "metadata": {
  "kernelspec": {
   "display_name": "Python 3",
   "language": "python",
   "name": "python3"
  },
  "language_info": {
   "codemirror_mode": {
    "name": "ipython",
    "version": 3
   },
   "file_extension": ".py",
   "mimetype": "text/x-python",
   "name": "python",
   "nbconvert_exporter": "python",
   "pygments_lexer": "ipython3",
   "version": "3.8.5"
  },
  "widgets": {
   "application/vnd.jupyter.widget-state+json": {
    "state": {},
    "version_major": 2,
    "version_minor": 0
   }
  }
 },
 "nbformat": 4,
 "nbformat_minor": 4
}
