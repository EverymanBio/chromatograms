{
 "cells": [
  {
   "cell_type": "markdown",
   "metadata": {},
   "source": [
    "# EverymanBio Fungi DNA Barcoding Chromatogram Explorer"
   ]
  },
  {
   "cell_type": "markdown",
   "metadata": {},
   "source": [
    "Let's open an .ab1 file, aka trace file, aka chromatogram, using BioPython."
   ]
  },
  {
   "cell_type": "code",
   "execution_count": 1,
   "metadata": {},
   "outputs": [],
   "source": [
    "from Bio import SeqIO\n",
    "chromatogram = SeqIO.read('trace_files/oc.laedaporous-ITS1-F.ab1', 'abi')"
   ]
  },
  {
   "cell_type": "markdown",
   "metadata": {},
   "source": [
    "Let's take a look at some of the annotation data in the file."
   ]
  },
  {
   "cell_type": "code",
   "execution_count": 70,
   "metadata": {},
   "outputs": [
    {
     "data": {
      "text/html": [
       "<div>\n",
       "<style scoped>\n",
       "    .dataframe tbody tr th:only-of-type {\n",
       "        vertical-align: middle;\n",
       "    }\n",
       "\n",
       "    .dataframe tbody tr th {\n",
       "        vertical-align: top;\n",
       "    }\n",
       "\n",
       "    .dataframe thead th {\n",
       "        text-align: right;\n",
       "    }\n",
       "</style>\n",
       "<table border=\"1\" class=\"dataframe\">\n",
       "  <thead>\n",
       "    <tr style=\"text-align: right;\">\n",
       "      <th></th>\n",
       "      <th>Value</th>\n",
       "    </tr>\n",
       "  </thead>\n",
       "  <tbody>\n",
       "    <tr>\n",
       "      <th>sample_well</th>\n",
       "      <td>D11</td>\n",
       "    </tr>\n",
       "    <tr>\n",
       "      <th>dye</th>\n",
       "      <td>Z-BigDyeV3</td>\n",
       "    </tr>\n",
       "    <tr>\n",
       "      <th>polymer</th>\n",
       "      <td>POP7</td>\n",
       "    </tr>\n",
       "    <tr>\n",
       "      <th>machine_model</th>\n",
       "      <td>3730</td>\n",
       "    </tr>\n",
       "    <tr>\n",
       "      <th>run_start</th>\n",
       "      <td>2020-11-25 20:47:19</td>\n",
       "    </tr>\n",
       "    <tr>\n",
       "      <th>run_finish</th>\n",
       "      <td>2020-11-25 22:03:24</td>\n",
       "    </tr>\n",
       "    <tr>\n",
       "      <th>abif_raw</th>\n",
       "      <td>{'AEPt1': 9925, 'AEPt2': 9925, 'APFN2': b'KBan...</td>\n",
       "    </tr>\n",
       "    <tr>\n",
       "      <th>molecule_type</th>\n",
       "      <td>DNA</td>\n",
       "    </tr>\n",
       "  </tbody>\n",
       "</table>\n",
       "</div>"
      ],
      "text/plain": [
       "                                                           Value\n",
       "sample_well                                                  D11\n",
       "dye                                                   Z-BigDyeV3\n",
       "polymer                         POP7                            \n",
       "machine_model                                               3730\n",
       "run_start                                    2020-11-25 20:47:19\n",
       "run_finish                                   2020-11-25 22:03:24\n",
       "abif_raw       {'AEPt1': 9925, 'AEPt2': 9925, 'APFN2': b'KBan...\n",
       "molecule_type                                                DNA"
      ]
     },
     "metadata": {},
     "output_type": "display_data"
    }
   ],
   "source": [
    "import pandas as pd\n",
    "\n",
    "annotations_df = pd.DataFrame.from_dict(chromatogram.annotations,\n",
    "                                        orient='index',\n",
    "                                        dtype='str',\n",
    "                                        columns=['Value'])\n",
    "display(annotations_df)"
   ]
  },
  {
   "cell_type": "code",
   "execution_count": null,
   "metadata": {},
   "outputs": [],
   "source": []
  }
 ],
 "metadata": {
  "kernelspec": {
   "display_name": "Python 3",
   "language": "python",
   "name": "python3"
  },
  "language_info": {
   "codemirror_mode": {
    "name": "ipython",
    "version": 3
   },
   "file_extension": ".py",
   "mimetype": "text/x-python",
   "name": "python",
   "nbconvert_exporter": "python",
   "pygments_lexer": "ipython3",
   "version": "3.8.5"
  }
 },
 "nbformat": 4,
 "nbformat_minor": 4
}
