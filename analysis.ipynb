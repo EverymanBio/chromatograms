{
 "cells": [
  {
   "cell_type": "markdown",
   "metadata": {},
   "source": [
    "# DNA Barcoding Chromatogram Explorer"
   ]
  },
  {
   "cell_type": "markdown",
   "metadata": {},
   "source": [
    "Let's open an .ab1 file, aka trace file, aka chromatogram, using BioPython."
   ]
  },
  {
   "cell_type": "code",
   "execution_count": 85,
   "metadata": {},
   "outputs": [
    {
     "data": {
      "application/vnd.jupyter.widget-view+json": {
       "model_id": "1316de6965704d04aa816bb6f686c3da",
       "version_major": 2,
       "version_minor": 0
      },
      "text/plain": [
       "Dropdown(options=('oc.laedaporous-ITS1-F.ab1', 'pink.fuzzy.mold-ITS1-F.ab1'), value='oc.laedaporous-ITS1-F.ab1…"
      ]
     },
     "metadata": {},
     "output_type": "display_data"
    }
   ],
   "source": [
    "import os\n",
    "from ipywidgets import widgets\n",
    "\n",
    "sequence_dropdown = widgets.Dropdown(options=os.listdir('./trace_files'))\n",
    "display(sequence_dropdown)"
   ]
  },
  {
   "cell_type": "markdown",
   "metadata": {},
   "source": [
    "Let's take a look at some of the annotation data in the file."
   ]
  },
  {
   "cell_type": "code",
   "execution_count": 2,
   "metadata": {},
   "outputs": [],
   "source": [
    "import pandas as pd\n",
    "from Bio import SeqIO\n",
    "\n",
    "selected_file = sequence_dropdown.value\n",
    "selected_file_path = './trace_files/{}'.format(selected_file)"
   ]
  },
  {
   "cell_type": "code",
   "execution_count": 3,
   "metadata": {},
   "outputs": [
    {
     "data": {
      "text/html": [
       "<div>\n",
       "<style scoped>\n",
       "    .dataframe tbody tr th:only-of-type {\n",
       "        vertical-align: middle;\n",
       "    }\n",
       "\n",
       "    .dataframe tbody tr th {\n",
       "        vertical-align: top;\n",
       "    }\n",
       "\n",
       "    .dataframe thead th {\n",
       "        text-align: right;\n",
       "    }\n",
       "</style>\n",
       "<table border=\"1\" class=\"dataframe\">\n",
       "  <thead>\n",
       "    <tr style=\"text-align: right;\">\n",
       "      <th></th>\n",
       "      <th>Value</th>\n",
       "    </tr>\n",
       "  </thead>\n",
       "  <tbody>\n",
       "    <tr>\n",
       "      <th>sample_well</th>\n",
       "      <td>b'D11'</td>\n",
       "    </tr>\n",
       "    <tr>\n",
       "      <th>dye</th>\n",
       "      <td>b'Z-BigDyeV3'</td>\n",
       "    </tr>\n",
       "    <tr>\n",
       "      <th>polymer</th>\n",
       "      <td>b'POP7                            '</td>\n",
       "    </tr>\n",
       "    <tr>\n",
       "      <th>machine_model</th>\n",
       "      <td>b'3730'</td>\n",
       "    </tr>\n",
       "    <tr>\n",
       "      <th>run_start</th>\n",
       "      <td>2020-11-25 20:47:19</td>\n",
       "    </tr>\n",
       "    <tr>\n",
       "      <th>run_finish</th>\n",
       "      <td>2020-11-25 22:03:24</td>\n",
       "    </tr>\n",
       "    <tr>\n",
       "      <th>abif_raw</th>\n",
       "      <td>{'AEPt1': 9925, 'AEPt2': 9925, 'APFN2': b'KBan...</td>\n",
       "    </tr>\n",
       "    <tr>\n",
       "      <th>molecule_type</th>\n",
       "      <td>DNA</td>\n",
       "    </tr>\n",
       "  </tbody>\n",
       "</table>\n",
       "</div>"
      ],
      "text/plain": [
       "                                                           Value\n",
       "sample_well                                               b'D11'\n",
       "dye                                                b'Z-BigDyeV3'\n",
       "polymer                      b'POP7                            '\n",
       "machine_model                                            b'3730'\n",
       "run_start                                    2020-11-25 20:47:19\n",
       "run_finish                                   2020-11-25 22:03:24\n",
       "abif_raw       {'AEPt1': 9925, 'AEPt2': 9925, 'APFN2': b'KBan...\n",
       "molecule_type                                                DNA"
      ]
     },
     "metadata": {},
     "output_type": "display_data"
    }
   ],
   "source": [
    "chromatogram = SeqIO.read(selected_file_path, 'abi')\n",
    "\n",
    "annotations_df = pd.DataFrame.from_dict(chromatogram.annotations,\n",
    "                                        orient='index',\n",
    "                                        columns=['Value'])\n",
    "display(annotations_df)"
   ]
  },
  {
   "cell_type": "markdown",
   "metadata": {},
   "source": [
    "The chromatogram data lives in the `abif_raw` row. Let's take a closer look."
   ]
  },
  {
   "cell_type": "code",
   "execution_count": 4,
   "metadata": {},
   "outputs": [
    {
     "data": {
      "text/plain": [
       "dict_keys(['AEPt1', 'AEPt2', 'APFN2', 'APXV1', 'APrN1', 'APrV1', 'APrX1', 'ARTN1', 'ASPF1', 'ASPt1', 'ASPt2', 'AUDT1', 'B1Pt1', 'B1Pt2', 'BCTS1', 'BufT1', 'CMNT1', 'CTID1', 'CTNM1', 'CTOw1', 'CTTL1', 'CpEP1', 'DATA1', 'DATA2', 'DATA3', 'DATA4', 'DATA5', 'DATA6', 'DATA7', 'DATA8', 'DATA9', 'DATA10', 'DATA11', 'DATA12', 'DCHT1', 'DSam1', 'DySN1', 'Dye#1', 'DyeN1', 'DyeN2', 'DyeN3', 'DyeN4', 'DyeW1', 'DyeW2', 'DyeW3', 'DyeW4', 'EPVt1', 'EVNT1', 'EVNT2', 'EVNT3', 'EVNT4', 'FTab1', 'FVoc1', 'FWO_1', 'Feat1', 'GTyp1', 'HCFG1', 'HCFG2', 'HCFG3', 'HCFG4', 'InSc1', 'InVt1', 'LANE1', 'LIMS1', 'LNTD1', 'LsrP1', 'MCHN1', 'MODF1', 'MODL1', 'NAVG1', 'NLNE1', 'NOIS1', 'PBAS1', 'PBAS2', 'PCON1', 'PCON2', 'PDMF1', 'PDMF2', 'PLOC1', 'PLOC2', 'PSZE1', 'PTYP1', 'PXLB1', 'RGNm1', 'RGOw1', 'RMXV1', 'RMdN1', 'RMdV1', 'RMdX1', 'RPrN1', 'RPrV1', 'RUND1', 'RUND2', 'RUND3', 'RUND4', 'RUNT1', 'RUNT2', 'RUNT3', 'RUNT4', 'Rate1', 'RunN1', 'S/N%1', 'SCAN1', 'SMED1', 'SMLt1', 'SMPL1', 'SPAC1', 'SPAC2', 'SPAC3', 'SVER1', 'SVER2', 'SVER3', 'Scal1', 'Scan1', 'TUBE1', 'Tmpr1', 'User1', 'phAR1', 'phCH1', 'phDY1', 'phQL1', 'phTR1', 'phTR2'])"
      ]
     },
     "execution_count": 4,
     "metadata": {},
     "output_type": "execute_result"
    }
   ],
   "source": [
    "annotations_df.loc['abif_raw']['Value'].keys()"
   ]
  },
  {
   "cell_type": "markdown",
   "metadata": {},
   "source": [
    "To make sense of these fields within the raw abi data, we can refer to the [ABIF File Format spec](docs/ABIF_File_Format.pdf).\n",
    "\n",
    "Here is a more human-readable summary of some additional info found in the raw data."
   ]
  },
  {
   "cell_type": "code",
   "execution_count": 5,
   "metadata": {},
   "outputs": [
    {
     "data": {
      "text/html": [
       "<div>\n",
       "<style scoped>\n",
       "    .dataframe tbody tr th:only-of-type {\n",
       "        vertical-align: middle;\n",
       "    }\n",
       "\n",
       "    .dataframe tbody tr th {\n",
       "        vertical-align: top;\n",
       "    }\n",
       "\n",
       "    .dataframe thead th {\n",
       "        text-align: right;\n",
       "    }\n",
       "</style>\n",
       "<table border=\"1\" class=\"dataframe\">\n",
       "  <thead>\n",
       "    <tr style=\"text-align: right;\">\n",
       "      <th></th>\n",
       "      <th>Raw Data Fields</th>\n",
       "    </tr>\n",
       "  </thead>\n",
       "  <tbody>\n",
       "    <tr>\n",
       "      <th>User</th>\n",
       "      <td>b'genewiz'</td>\n",
       "    </tr>\n",
       "    <tr>\n",
       "      <th>Stop Point</th>\n",
       "      <td>9925</td>\n",
       "    </tr>\n",
       "    <tr>\n",
       "      <th>Start Point</th>\n",
       "      <td>1730</td>\n",
       "    </tr>\n",
       "    <tr>\n",
       "      <th>Peak Area Ratio</th>\n",
       "      <td>-1</td>\n",
       "    </tr>\n",
       "    <tr>\n",
       "      <th>Peak Spacing</th>\n",
       "      <td>14.2801</td>\n",
       "    </tr>\n",
       "    <tr>\n",
       "      <th>Max Quality Value</th>\n",
       "      <td>99</td>\n",
       "    </tr>\n",
       "    <tr>\n",
       "      <th>Last Successful Analysis</th>\n",
       "      <td>b'2020-11-25 22:08:05 -05:00'</td>\n",
       "    </tr>\n",
       "    <tr>\n",
       "      <th>Signal Level for Each Dye</th>\n",
       "      <td>(1514, 1845, 2257, 2273)</td>\n",
       "    </tr>\n",
       "    <tr>\n",
       "      <th>Sample Comment</th>\n",
       "      <td>b'2377975-D11-JoshMcGinnis-30-449493217-JM7'</td>\n",
       "    </tr>\n",
       "    <tr>\n",
       "      <th>Container ID</th>\n",
       "      <td>b'09A000036479'</td>\n",
       "    </tr>\n",
       "    <tr>\n",
       "      <th>Container Name</th>\n",
       "      <td>b'2377975'</td>\n",
       "    </tr>\n",
       "    <tr>\n",
       "      <th>Container Owner</th>\n",
       "      <td>b'genewiz'</td>\n",
       "    </tr>\n",
       "  </tbody>\n",
       "</table>\n",
       "</div>"
      ],
      "text/plain": [
       "                                                        Raw Data Fields\n",
       "User                                                         b'genewiz'\n",
       "Stop Point                                                         9925\n",
       "Start Point                                                        1730\n",
       "Peak Area Ratio                                                      -1\n",
       "Peak Spacing                                                    14.2801\n",
       "Max Quality Value                                                    99\n",
       "Last Successful Analysis                  b'2020-11-25 22:08:05 -05:00'\n",
       "Signal Level for Each Dye                      (1514, 1845, 2257, 2273)\n",
       "Sample Comment             b'2377975-D11-JoshMcGinnis-30-449493217-JM7'\n",
       "Container ID                                            b'09A000036479'\n",
       "Container Name                                               b'2377975'\n",
       "Container Owner                                              b'genewiz'"
      ]
     },
     "execution_count": 5,
     "metadata": {},
     "output_type": "execute_result"
    }
   ],
   "source": [
    "abif_raw = annotations_df.loc['abif_raw']['Value']\n",
    "pd.DataFrame.from_dict({\n",
    "  'User':                      abif_raw['User1'],\n",
    "  'Stop Point':                abif_raw['AEPt1'],\n",
    "  'Start Point':               abif_raw['ASPt1'],\n",
    "  'Peak Area Ratio':           abif_raw['phAR1'],\n",
    "  'Peak Spacing':              abif_raw['SPAC3'],\n",
    "  'Max Quality Value':         abif_raw['phQL1'],\n",
    "  'Last Successful Analysis':  abif_raw['BCTS1'],\n",
    "  'Signal Level for Each Dye': abif_raw['S/N%1'],\n",
    "  'Sample Comment':            abif_raw['CMNT1'],\n",
    "  'Container ID':              abif_raw['CTID1'],\n",
    "  'Container Name':            abif_raw['CTNM1'],\n",
    "  'Container Owner':           abif_raw['CTOw1']},\n",
    "    orient='index',\n",
    "    columns=['Raw Data Fields'])"
   ]
  },
  {
   "cell_type": "markdown",
   "metadata": {},
   "source": [
    "### Now let's take a look at the sequence data"
   ]
  },
  {
   "cell_type": "code",
   "execution_count": 104,
   "metadata": {},
   "outputs": [
    {
     "name": "stdout",
     "output_type": "stream",
     "text": [
      "# Bases: 601\n"
     ]
    },
    {
     "data": {
      "text/plain": [
       "'N N N N G N N T C N G T N G G T G A C N N C G G A N G G A N A T T A T A G A G T T T T C T A A A C T C C C A A C C C A T G T G A A C T T A C C A T T G T T G C C T C G G C A G A A G C T G C T C G G T G C A C C C T A C C T T G G A A C G G C C T A C C C T G T A G C G C C T T A C C C T G G A A C G G C T T A C C C T G T A A C G G C T G C C G G T G G A C T A C C A A A C T C T T G T T A T T T T A T T G T A A T C T G A G C G T C T T A T T C T A A T A A G T C A A A A C T T T C A A C A A C G G A T C T C T T G G T T C T G G C A T C G A T G A A G A A C G C A G C G A A A T G C G A T A A G T A A T G T G A A T T G C A G A A T T C A G T G A A T C A T C G A A T C T T T G A A C G C A C A T T G C G C C C A T T A G T A T T C T A G T G G G C A T G C C T G T T C G A G C G T C A T T T C A A C C C T T A A G C C T A G C T T A G T G T T G G G A G C C T A C T G C T T T T G C T A G C T G T A G C T C C T G A A A T A C A A C G G C G G A T C T G C G A T A T C C T C T G A G C G T A G T A A A T T T T T A T C T C G C T T T T G A C T G G A G T T G C A G C G T C T T T G G C C G C T A A A T C C C C C A A T T T T T A A T G G T T G A C C T C G G A T C A G G T A G G A A T A C C C G C T G A A C T T A A G C A T A T C A N N N'"
      ]
     },
     "execution_count": 104,
     "metadata": {},
     "output_type": "execute_result"
    }
   ],
   "source": [
    "sequence = abif_raw['PBAS1']\n",
    "print('# Bases: {}'.format(len(sequence)))\n",
    "' '.join(list(sequence.decode('UTF-8')))"
   ]
  },
  {
   "cell_type": "markdown",
   "metadata": {},
   "source": [
    "Let's take a look at the Phred (_quality_) scores for the first 50 base pairs."
   ]
  },
  {
   "cell_type": "code",
   "execution_count": 88,
   "metadata": {},
   "outputs": [
    {
     "data": {
      "image/png": "[encoded data removed]",
      "text/plain": [
       "<Figure size 1224x216 with 1 Axes>"
      ]
     },
     "metadata": {
      "needs_background": "light"
     },
     "output_type": "display_data"
    }
   ],
   "source": [
    "import matplotlib.pyplot as plt\n",
    "\n",
    "seq = list(sequence[0:50].decode('UTF-8'))\n",
    "quality_scores = chromatogram.letter_annotations['phred_quality'][0:50]\n",
    "\n",
    "plt.figure(figsize=(17,3)) \n",
    "plt.xticks(ticks=range(len(seq)), labels=seq)\n",
    "plt.yticks([0, 20, 40, 60])\n",
    "plt.xlim(0)\n",
    "plt.ylim(min(quality_scores), max(quality_scores) + 10)\n",
    "plt.bar(range(len(seq)), quality_scores, align='edge', width=.9, color='#555')\n",
    "plt.show()"
   ]
  },
  {
   "cell_type": "code",
   "execution_count": 89,
   "metadata": {},
   "outputs": [
    {
     "data": {
      "image/png": "[encoded data removed]",
      "text/plain": [
       "<Figure size 432x288 with 5 Axes>"
      ]
     },
     "metadata": {
      "needs_background": "light"
     },
     "output_type": "display_data"
    }
   ],
   "source": [
    "from numpy import pi, sin\n",
    "import numpy as np\n",
    "import matplotlib.pyplot as plt\n",
    "from matplotlib.widgets import Slider, Button, RadioButtons\n",
    "\n",
    "def signal(amp, freq):\n",
    "    return amp * sin(2 * pi * freq * t)\n",
    "\n",
    "axis_color = 'lightgoldenrodyellow'\n",
    "\n",
    "fig = plt.figure()\n",
    "ax = fig.add_subplot(111)\n",
    "\n",
    "# Adjust the subplots region to leave some space for the sliders and buttons\n",
    "fig.subplots_adjust(left=0.25, bottom=0.25)\n",
    "\n",
    "t = np.arange(0.0, 1.0, 0.001)\n",
    "amp_0 = 5\n",
    "freq_0 = 3\n",
    "\n",
    "# Draw the initial plot\n",
    "# The 'line' variable is used for modifying the line later\n",
    "[line] = ax.plot(t, signal(amp_0, freq_0), linewidth=2, color='red')\n",
    "ax.set_xlim([0, 1])\n",
    "ax.set_ylim([-10, 10])\n",
    "\n",
    "# Add two sliders for tweaking the parameters\n",
    "\n",
    "# Define an axes area and draw a slider in it\n",
    "amp_slider_ax  = fig.add_axes([0.25, 0.15, 0.65, 0.03], facecolor=axis_color)\n",
    "amp_slider = Slider(amp_slider_ax, 'Amp', 0.1, 10.0, valinit=amp_0)\n",
    "\n",
    "# Draw another slider\n",
    "freq_slider_ax = fig.add_axes([0.25, 0.1, 0.65, 0.03], facecolor=axis_color)\n",
    "freq_slider = Slider(freq_slider_ax, 'Freq', 0.1, 30.0, valinit=freq_0)\n",
    "\n",
    "# Define an action for modifying the line when any slider's value changes\n",
    "def sliders_on_changed(val):\n",
    "    line.set_ydata(signal(amp_slider.val, freq_slider.val))\n",
    "    fig.canvas.draw_idle()\n",
    "amp_slider.on_changed(sliders_on_changed)\n",
    "freq_slider.on_changed(sliders_on_changed)\n",
    "\n",
    "# Add a button for resetting the parameters\n",
    "reset_button_ax = fig.add_axes([0.8, 0.025, 0.1, 0.04])\n",
    "reset_button = Button(reset_button_ax, 'Reset', color=axis_color, hovercolor='0.975')\n",
    "def reset_button_on_clicked(mouse_event):\n",
    "    freq_slider.reset()\n",
    "    amp_slider.reset()\n",
    "reset_button.on_clicked(reset_button_on_clicked)\n",
    "\n",
    "# Add a set of radio buttons for changing color\n",
    "color_radios_ax = fig.add_axes([0.025, 0.5, 0.15, 0.15], facecolor=axis_color)\n",
    "color_radios = RadioButtons(color_radios_ax, ('red', 'blue', 'green'), active=0)\n",
    "def color_radios_on_clicked(label):\n",
    "    line.set_color(label)\n",
    "    fig.canvas.draw_idle()\n",
    "color_radios.on_clicked(color_radios_on_clicked)\n",
    "\n",
    "plt.show()"
   ]
  },
  {
   "cell_type": "code",
   "execution_count": null,
   "metadata": {},
   "outputs": [],
   "source": []
  }
 ],
 "metadata": {
  "kernelspec": {
   "display_name": "Python 3",
   "language": "python",
   "name": "python3"
  },
  "language_info": {
   "codemirror_mode": {
    "name": "ipython",
    "version": 3
   },
   "file_extension": ".py",
   "mimetype": "text/x-python",
   "name": "python",
   "nbconvert_exporter": "python",
   "pygments_lexer": "ipython3",
   "version": "3.8.5"
  },
  "widgets": {
   "application/vnd.jupyter.widget-state+json": {
    "state": {
     "038739fbba9b4ee3970cace10e8fec3b": {
      "model_module": "@jupyter-widgets/controls",
      "model_module_version": "1.5.0",
      "model_name": "DescriptionStyleModel",
      "state": {
       "description_width": ""
      }
     },
     "103bb20edb4d4e94967c43e8870dd22b": {
      "model_module": "@jupyter-widgets/controls",
      "model_module_version": "1.5.0",
      "model_name": "DescriptionStyleModel",
      "state": {
       "description_width": ""
      }
     },
     "1316de6965704d04aa816bb6f686c3da": {
      "model_module": "@jupyter-widgets/controls",
      "model_module_version": "1.5.0",
      "model_name": "DropdownModel",
      "state": {
       "_options_labels": [
        "oc.laedaporous-ITS1-F.ab1",
        "pink.fuzzy.mold-ITS1-F.ab1"
       ],
       "index": 0,
       "layout": "IPY_MODEL_fe06e6e6f06e4f308e1bb6dcb3da520e",
       "style": "IPY_MODEL_50653891e5eb48e1a984b423faeb6390"
      }
     },
     "14952f92078f4d319f0f9b8e3367a0e2": {
      "model_module": "@jupyter-widgets/controls",
      "model_module_version": "1.5.0",
      "model_name": "DescriptionStyleModel",
      "state": {
       "description_width": ""
      }
     },
     "1dd0d3881e2e425cb48d2cc42cc28cac": {
      "model_module": "@jupyter-widgets/controls",
      "model_module_version": "1.5.0",
      "model_name": "DescriptionStyleModel",
      "state": {
       "description_width": ""
      }
     },
     "27480295ef964c78bd874e277a444822": {
      "model_module": "@jupyter-widgets/controls",
      "model_module_version": "1.5.0",
      "model_name": "DescriptionStyleModel",
      "state": {
       "description_width": ""
      }
     },
     "284c29dbdf5a4fb6aa9068160df555cc": {
      "model_module": "@jupyter-widgets/controls",
      "model_module_version": "1.5.0",
      "model_name": "DropdownModel",
      "state": {
       "_options_labels": [
        "oc.laedaporous-ITS1-F.ab1",
        "pink.fuzzy.mold-ITS1-F.ab1"
       ],
       "index": 0,
       "layout": "IPY_MODEL_2bdb9995b5f243b8945393d850590213",
       "style": "IPY_MODEL_bb53344bceba4677bc79995fafb15919"
      }
     },
     "2911768c0c384b5695fbf2b59d349c4f": {
      "model_module": "@jupyter-widgets/base",
      "model_module_version": "1.2.0",
      "model_name": "LayoutModel",
      "state": {}
     },
     "296e80cbd45f48bd86f0f92d5dd8fd9f": {
      "model_module": "@jupyter-widgets/base",
      "model_module_version": "1.2.0",
      "model_name": "LayoutModel",
      "state": {}
     },
     "2bdb9995b5f243b8945393d850590213": {
      "model_module": "@jupyter-widgets/base",
      "model_module_version": "1.2.0",
      "model_name": "LayoutModel",
      "state": {}
     },
     "34541e3ca0314b229cca06b83030a29f": {
      "model_module": "@jupyter-widgets/controls",
      "model_module_version": "1.5.0",
      "model_name": "DescriptionStyleModel",
      "state": {
       "description_width": ""
      }
     },
     "3e7fd8b5ed4b446da727311cd43f736b": {
      "model_module": "@jupyter-widgets/base",
      "model_module_version": "1.2.0",
      "model_name": "LayoutModel",
      "state": {}
     },
     "41ce2beb5c8d4bb88aa00fdc14f944b0": {
      "model_module": "@jupyter-widgets/base",
      "model_module_version": "1.2.0",
      "model_name": "LayoutModel",
      "state": {}
     },
     "4261c430a5644fd8900964fb89c0e74d": {
      "model_module": "@jupyter-widgets/base",
      "model_module_version": "1.2.0",
      "model_name": "LayoutModel",
      "state": {}
     },
     "4433121d3622441384c63c50495fd74b": {
      "model_module": "@jupyter-widgets/controls",
      "model_module_version": "1.5.0",
      "model_name": "DropdownModel",
      "state": {
       "_options_labels": [
        "oc.laedaporous-ITS1-F.ab1",
        "pink.fuzzy.mold-ITS1-F.ab1"
       ],
       "index": 0,
       "layout": "IPY_MODEL_41ce2beb5c8d4bb88aa00fdc14f944b0",
       "style": "IPY_MODEL_90eb2e989d5b4122922b5736aebd8143"
      }
     },
     "457b338ad6174aa5b3819c7e15f6e08c": {
      "model_module": "@jupyter-widgets/controls",
      "model_module_version": "1.5.0",
      "model_name": "DropdownModel",
      "state": {
       "_options_labels": [
        "oc.laedaporous-ITS1-F.ab1",
        "pink.fuzzy.mold-ITS1-F.ab1"
       ],
       "index": 0,
       "layout": "IPY_MODEL_296e80cbd45f48bd86f0f92d5dd8fd9f",
       "style": "IPY_MODEL_d4946b6aef3c44a6a5df18a0d6345447"
      }
     },
     "47cb2aeb387f4a2ea9ac75f4db459c82": {
      "model_module": "@jupyter-widgets/controls",
      "model_module_version": "1.5.0",
      "model_name": "DescriptionStyleModel",
      "state": {
       "description_width": ""
      }
     },
     "47e0b29251744631acbba96846b5486d": {
      "model_module": "@jupyter-widgets/controls",
      "model_module_version": "1.5.0",
      "model_name": "DropdownModel",
      "state": {
       "_options_labels": [
        "oc.laedaporous-ITS1-F.ab1",
        "pink.fuzzy.mold-ITS1-F.ab1"
       ],
       "index": 0,
       "layout": "IPY_MODEL_6421cc7d37f841baa4df262a2ce7ede7",
       "style": "IPY_MODEL_763ff807baaa4e10afe19ff40365cf32"
      }
     },
     "4a6791f056084572a5aba93027ec1c2a": {
      "model_module": "@jupyter-widgets/controls",
      "model_module_version": "1.5.0",
      "model_name": "DropdownModel",
      "state": {
       "_options_labels": [
        "oc.laedaporous-ITS1-F.ab1",
        "pink.fuzzy.mold-ITS1-F.ab1"
       ],
       "index": 0,
       "layout": "IPY_MODEL_a35c579f580a455da99c1c0ba805db09",
       "style": "IPY_MODEL_47cb2aeb387f4a2ea9ac75f4db459c82"
      }
     },
     "4c9f6ba31d0c4ce3959acc846d2948b3": {
      "model_module": "@jupyter-widgets/controls",
      "model_module_version": "1.5.0",
      "model_name": "DescriptionStyleModel",
      "state": {
       "description_width": ""
      }
     },
     "4ee6675aac054afca37018a8cb72dedf": {
      "model_module": "@jupyter-widgets/base",
      "model_module_version": "1.2.0",
      "model_name": "LayoutModel",
      "state": {}
     },
     "4f9149f53fbc4be8b72d9b0b179117a2": {
      "model_module": "@jupyter-widgets/controls",
      "model_module_version": "1.5.0",
      "model_name": "DescriptionStyleModel",
      "state": {
       "description_width": ""
      }
     },
     "50653891e5eb48e1a984b423faeb6390": {
      "model_module": "@jupyter-widgets/controls",
      "model_module_version": "1.5.0",
      "model_name": "DescriptionStyleModel",
      "state": {
       "description_width": ""
      }
     },
     "547495b9e115484e9fdfc10e056c067e": {
      "model_module": "@jupyter-widgets/base",
      "model_module_version": "1.2.0",
      "model_name": "LayoutModel",
      "state": {}
     },
     "549f5ce4e0284f30a3f6ef90bc142a47": {
      "model_module": "@jupyter-widgets/controls",
      "model_module_version": "1.5.0",
      "model_name": "DropdownModel",
      "state": {
       "_options_labels": [
        "oc.laedaporous-ITS1-F.ab1",
        "pink.fuzzy.mold-ITS1-F.ab1"
       ],
       "index": 0,
       "layout": "IPY_MODEL_5a1019967e35440391cc106de3e8c23f",
       "style": "IPY_MODEL_a1b1c80fc0b245f8a04421b8908353a4"
      }
     },
     "5889fbba3309454b94abd9b3b6d2db20": {
      "model_module": "@jupyter-widgets/base",
      "model_module_version": "1.2.0",
      "model_name": "LayoutModel",
      "state": {}
     },
     "5a1019967e35440391cc106de3e8c23f": {
      "model_module": "@jupyter-widgets/base",
      "model_module_version": "1.2.0",
      "model_name": "LayoutModel",
      "state": {}
     },
     "5b2c217b45fb4b439ae0a1597754a1bf": {
      "model_module": "@jupyter-widgets/controls",
      "model_module_version": "1.5.0",
      "model_name": "DropdownModel",
      "state": {
       "_options_labels": [
        "oc.laedaporous-ITS1-F.ab1",
        "pink.fuzzy.mold-ITS1-F.ab1"
       ],
       "index": 0,
       "layout": "IPY_MODEL_9e45d78935a140a09a5fc444e5f91e83",
       "style": "IPY_MODEL_14952f92078f4d319f0f9b8e3367a0e2"
      }
     },
     "5bb91e11b88f4259abf5a99da0ea5e7c": {
      "model_module": "@jupyter-widgets/base",
      "model_module_version": "1.2.0",
      "model_name": "LayoutModel",
      "state": {}
     },
     "5e7e19888b634822aa3e539f05f823ed": {
      "model_module": "@jupyter-widgets/controls",
      "model_module_version": "1.5.0",
      "model_name": "DropdownModel",
      "state": {
       "_options_labels": [
        "oc.laedaporous-ITS1-F.ab1",
        "pink.fuzzy.mold-ITS1-F.ab1"
       ],
       "index": 0,
       "layout": "IPY_MODEL_3e7fd8b5ed4b446da727311cd43f736b",
       "style": "IPY_MODEL_4c9f6ba31d0c4ce3959acc846d2948b3"
      }
     },
     "5f58cf0c5a3f46dea86ed25caa4fb650": {
      "model_module": "@jupyter-widgets/controls",
      "model_module_version": "1.5.0",
      "model_name": "DropdownModel",
      "state": {
       "_options_labels": [
        "oc.laedaporous-ITS1-F.ab1",
        "pink.fuzzy.mold-ITS1-F.ab1"
       ],
       "index": 0,
       "layout": "IPY_MODEL_5bb91e11b88f4259abf5a99da0ea5e7c",
       "style": "IPY_MODEL_6f5b293245e441c7821216e4cf143681"
      }
     },
     "6421cc7d37f841baa4df262a2ce7ede7": {
      "model_module": "@jupyter-widgets/base",
      "model_module_version": "1.2.0",
      "model_name": "LayoutModel",
      "state": {}
     },
     "6560ce031f9d4ea68279705be675d6b4": {
      "model_module": "@jupyter-widgets/base",
      "model_module_version": "1.2.0",
      "model_name": "LayoutModel",
      "state": {}
     },
     "6e427d93ca0e4dc6932d1ab5d245c0a9": {
      "model_module": "@jupyter-widgets/controls",
      "model_module_version": "1.5.0",
      "model_name": "DescriptionStyleModel",
      "state": {
       "description_width": ""
      }
     },
     "6f5b293245e441c7821216e4cf143681": {
      "model_module": "@jupyter-widgets/controls",
      "model_module_version": "1.5.0",
      "model_name": "DescriptionStyleModel",
      "state": {
       "description_width": ""
      }
     },
     "72ad1696d60149bbaf7a018a4c72a59b": {
      "model_module": "@jupyter-widgets/controls",
      "model_module_version": "1.5.0",
      "model_name": "DescriptionStyleModel",
      "state": {
       "description_width": ""
      }
     },
     "763ff807baaa4e10afe19ff40365cf32": {
      "model_module": "@jupyter-widgets/controls",
      "model_module_version": "1.5.0",
      "model_name": "DescriptionStyleModel",
      "state": {
       "description_width": ""
      }
     },
     "775f62e4f8ac4f4e92899fe704a7833c": {
      "model_module": "@jupyter-widgets/controls",
      "model_module_version": "1.5.0",
      "model_name": "DescriptionStyleModel",
      "state": {
       "description_width": ""
      }
     },
     "7f808428161d42e4a4e07744df373e42": {
      "model_module": "@jupyter-widgets/base",
      "model_module_version": "1.2.0",
      "model_name": "LayoutModel",
      "state": {}
     },
     "80378031effe410186226a09e2019f7f": {
      "model_module": "@jupyter-widgets/controls",
      "model_module_version": "1.5.0",
      "model_name": "DescriptionStyleModel",
      "state": {
       "description_width": ""
      }
     },
     "8572116cfaac458fa187fd4d1463b804": {
      "model_module": "@jupyter-widgets/controls",
      "model_module_version": "1.5.0",
      "model_name": "DropdownModel",
      "state": {
       "_options_labels": [
        "oc.laedaporous-ITS1-F.ab1",
        "pink.fuzzy.mold-ITS1-F.ab1"
       ],
       "index": 0,
       "layout": "IPY_MODEL_897671e5e6ab43da89dc374e01bda7c4",
       "style": "IPY_MODEL_87c5991f4bcf44a7b49da4bc5efc6811"
      }
     },
     "87c5991f4bcf44a7b49da4bc5efc6811": {
      "model_module": "@jupyter-widgets/controls",
      "model_module_version": "1.5.0",
      "model_name": "DescriptionStyleModel",
      "state": {
       "description_width": ""
      }
     },
     "89331baddda148f6924a28f8cece9e9f": {
      "model_module": "@jupyter-widgets/controls",
      "model_module_version": "1.5.0",
      "model_name": "DropdownModel",
      "state": {
       "_options_labels": [
        "oc.laedaporous-ITS1-F.ab1",
        "pink.fuzzy.mold-ITS1-F.ab1"
       ],
       "index": 0,
       "layout": "IPY_MODEL_9d409f8c53e34c16b4c17697c69f1160",
       "style": "IPY_MODEL_1dd0d3881e2e425cb48d2cc42cc28cac"
      }
     },
     "897671e5e6ab43da89dc374e01bda7c4": {
      "model_module": "@jupyter-widgets/base",
      "model_module_version": "1.2.0",
      "model_name": "LayoutModel",
      "state": {}
     },
     "8b922f468e804ebdb4501e5cbf2252fa": {
      "model_module": "@jupyter-widgets/base",
      "model_module_version": "1.2.0",
      "model_name": "LayoutModel",
      "state": {}
     },
     "90eb2e989d5b4122922b5736aebd8143": {
      "model_module": "@jupyter-widgets/controls",
      "model_module_version": "1.5.0",
      "model_name": "DescriptionStyleModel",
      "state": {
       "description_width": ""
      }
     },
     "9c4d14c833af4050a1e9c0a2034b9086": {
      "model_module": "@jupyter-widgets/controls",
      "model_module_version": "1.5.0",
      "model_name": "DropdownModel",
      "state": {
       "_options_labels": [
        "oc.laedaporous-ITS1-F.ab1",
        "pink.fuzzy.mold-ITS1-F.ab1"
       ],
       "index": 0,
       "layout": "IPY_MODEL_9e9966eb4d924d6fab676bdcffb6d3b6",
       "style": "IPY_MODEL_80378031effe410186226a09e2019f7f"
      }
     },
     "9d409f8c53e34c16b4c17697c69f1160": {
      "model_module": "@jupyter-widgets/base",
      "model_module_version": "1.2.0",
      "model_name": "LayoutModel",
      "state": {}
     },
     "9e45d78935a140a09a5fc444e5f91e83": {
      "model_module": "@jupyter-widgets/base",
      "model_module_version": "1.2.0",
      "model_name": "LayoutModel",
      "state": {}
     },
     "9e9966eb4d924d6fab676bdcffb6d3b6": {
      "model_module": "@jupyter-widgets/base",
      "model_module_version": "1.2.0",
      "model_name": "LayoutModel",
      "state": {}
     },
     "a068f1d05cb147ec8de88bcff7f853f3": {
      "model_module": "@jupyter-widgets/controls",
      "model_module_version": "1.5.0",
      "model_name": "DescriptionStyleModel",
      "state": {
       "description_width": ""
      }
     },
     "a1b1c80fc0b245f8a04421b8908353a4": {
      "model_module": "@jupyter-widgets/controls",
      "model_module_version": "1.5.0",
      "model_name": "DescriptionStyleModel",
      "state": {
       "description_width": ""
      }
     },
     "a35c579f580a455da99c1c0ba805db09": {
      "model_module": "@jupyter-widgets/base",
      "model_module_version": "1.2.0",
      "model_name": "LayoutModel",
      "state": {}
     },
     "a80cc622dbae4ddd9368bc0ddd8b3f5c": {
      "model_module": "@jupyter-widgets/controls",
      "model_module_version": "1.5.0",
      "model_name": "DropdownModel",
      "state": {
       "_options_labels": [
        "oc.laedaporous-ITS1-F.ab1",
        "pink.fuzzy.mold-ITS1-F.ab1"
       ],
       "index": 0,
       "layout": "IPY_MODEL_4261c430a5644fd8900964fb89c0e74d",
       "style": "IPY_MODEL_34541e3ca0314b229cca06b83030a29f"
      }
     },
     "aaea36443e3548e994da7de42dbf6ae7": {
      "model_module": "@jupyter-widgets/controls",
      "model_module_version": "1.5.0",
      "model_name": "DropdownModel",
      "state": {
       "_options_labels": [
        "oc.laedaporous-ITS1-F.ab1",
        "pink.fuzzy.mold-ITS1-F.ab1"
       ],
       "index": 0,
       "layout": "IPY_MODEL_dec6551a7bf84617ac89b8bfdabbbbd9",
       "style": "IPY_MODEL_038739fbba9b4ee3970cace10e8fec3b"
      }
     },
     "b0de9b9cc34a4222b8d9d794454d34da": {
      "model_module": "@jupyter-widgets/controls",
      "model_module_version": "1.5.0",
      "model_name": "DropdownModel",
      "state": {
       "_options_labels": [
        "oc.laedaporous-ITS1-F.ab1",
        "pink.fuzzy.mold-ITS1-F.ab1"
       ],
       "index": 0,
       "layout": "IPY_MODEL_2911768c0c384b5695fbf2b59d349c4f",
       "style": "IPY_MODEL_72ad1696d60149bbaf7a018a4c72a59b"
      }
     },
     "b56a25235aa1407aae2aa663d692d0ce": {
      "model_module": "@jupyter-widgets/controls",
      "model_module_version": "1.5.0",
      "model_name": "DropdownModel",
      "state": {
       "_options_labels": [
        "oc.laedaporous-ITS1-F.ab1",
        "pink.fuzzy.mold-ITS1-F.ab1"
       ],
       "index": 0,
       "layout": "IPY_MODEL_7f808428161d42e4a4e07744df373e42",
       "style": "IPY_MODEL_103bb20edb4d4e94967c43e8870dd22b"
      }
     },
     "bb53344bceba4677bc79995fafb15919": {
      "model_module": "@jupyter-widgets/controls",
      "model_module_version": "1.5.0",
      "model_name": "DescriptionStyleModel",
      "state": {
       "description_width": ""
      }
     },
     "bcaca8092d114a76b17e2adee61bfa19": {
      "model_module": "@jupyter-widgets/controls",
      "model_module_version": "1.5.0",
      "model_name": "DropdownModel",
      "state": {
       "_options_labels": [
        "oc.laedaporous-ITS1-F.ab1",
        "pink.fuzzy.mold-ITS1-F.ab1"
       ],
       "index": 0,
       "layout": "IPY_MODEL_8b922f468e804ebdb4501e5cbf2252fa",
       "style": "IPY_MODEL_ce28458b40544dfd996274da928a2a50"
      }
     },
     "c0f2915c8cda41fa8d29e96190d218b2": {
      "model_module": "@jupyter-widgets/controls",
      "model_module_version": "1.5.0",
      "model_name": "DropdownModel",
      "state": {
       "_options_labels": [
        "oc.laedaporous-ITS1-F.ab1",
        "pink.fuzzy.mold-ITS1-F.ab1"
       ],
       "index": 0,
       "layout": "IPY_MODEL_6560ce031f9d4ea68279705be675d6b4",
       "style": "IPY_MODEL_a068f1d05cb147ec8de88bcff7f853f3"
      }
     },
     "c3979c5d3c8d43108b72828515f6f85c": {
      "model_module": "@jupyter-widgets/controls",
      "model_module_version": "1.5.0",
      "model_name": "DropdownModel",
      "state": {
       "_options_labels": [
        "oc.laedaporous-ITS1-F.ab1",
        "pink.fuzzy.mold-ITS1-F.ab1"
       ],
       "index": 0,
       "layout": "IPY_MODEL_547495b9e115484e9fdfc10e056c067e",
       "style": "IPY_MODEL_775f62e4f8ac4f4e92899fe704a7833c"
      }
     },
     "c39bace582e648599ab4ef39f4970671": {
      "model_module": "@jupyter-widgets/controls",
      "model_module_version": "1.5.0",
      "model_name": "DropdownModel",
      "state": {
       "_options_labels": [
        "oc.laedaporous-ITS1-F.ab1",
        "pink.fuzzy.mold-ITS1-F.ab1"
       ],
       "index": 0,
       "layout": "IPY_MODEL_ce7888e1999744f68ab07a88ce18c3bc",
       "style": "IPY_MODEL_6e427d93ca0e4dc6932d1ab5d245c0a9"
      }
     },
     "ce28458b40544dfd996274da928a2a50": {
      "model_module": "@jupyter-widgets/controls",
      "model_module_version": "1.5.0",
      "model_name": "DescriptionStyleModel",
      "state": {
       "description_width": ""
      }
     },
     "ce7888e1999744f68ab07a88ce18c3bc": {
      "model_module": "@jupyter-widgets/base",
      "model_module_version": "1.2.0",
      "model_name": "LayoutModel",
      "state": {}
     },
     "d4946b6aef3c44a6a5df18a0d6345447": {
      "model_module": "@jupyter-widgets/controls",
      "model_module_version": "1.5.0",
      "model_name": "DescriptionStyleModel",
      "state": {
       "description_width": ""
      }
     },
     "dd0faea501eb443c850f29afd44f5712": {
      "model_module": "@jupyter-widgets/controls",
      "model_module_version": "1.5.0",
      "model_name": "DropdownModel",
      "state": {
       "_options_labels": [
        "oc.laedaporous-ITS1-F.ab1",
        "pink.fuzzy.mold-ITS1-F.ab1"
       ],
       "index": 0,
       "layout": "IPY_MODEL_5889fbba3309454b94abd9b3b6d2db20",
       "style": "IPY_MODEL_27480295ef964c78bd874e277a444822"
      }
     },
     "dec6551a7bf84617ac89b8bfdabbbbd9": {
      "model_module": "@jupyter-widgets/base",
      "model_module_version": "1.2.0",
      "model_name": "LayoutModel",
      "state": {}
     },
     "e6280a6f5271481882451c1c3021cdbd": {
      "model_module": "@jupyter-widgets/controls",
      "model_module_version": "1.5.0",
      "model_name": "DropdownModel",
      "state": {
       "_options_labels": [
        "oc.laedaporous-ITS1-F.ab1",
        "pink.fuzzy.mold-ITS1-F.ab1"
       ],
       "index": 0,
       "layout": "IPY_MODEL_4ee6675aac054afca37018a8cb72dedf",
       "style": "IPY_MODEL_4f9149f53fbc4be8b72d9b0b179117a2"
      }
     },
     "fe06e6e6f06e4f308e1bb6dcb3da520e": {
      "model_module": "@jupyter-widgets/base",
      "model_module_version": "1.2.0",
      "model_name": "LayoutModel",
      "state": {}
     }
    },
    "version_major": 2,
    "version_minor": 0
   }
  }
 },
 "nbformat": 4,
 "nbformat_minor": 4
}
