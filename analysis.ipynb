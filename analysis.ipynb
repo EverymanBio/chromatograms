{
 "cells": [
  {
   "cell_type": "markdown",
   "metadata": {},
   "source": [
    "# DNA Barcoding Chromatogram Explorer"
   ]
  },
  {
   "cell_type": "markdown",
   "metadata": {},
   "source": [
    "Let's open an .ab1 file, aka trace file, aka chromatogram, using BioPython."
   ]
  },
  {
   "cell_type": "code",
   "execution_count": 2,
   "metadata": {
    "jupyter": {
     "source_hidden": true
    }
   },
   "outputs": [
    {
     "data": {
      "application/vnd.jupyter.widget-view+json": {
       "model_id": "c3d706e1e2cf42da990ba22f8e382452",
       "version_major": 2,
       "version_minor": 0
      },
      "text/plain": [
       "Dropdown(options=('oc.laedaporous-ITS1-F.ab1', 'pink.fuzzy.mold-ITS1-F.ab1'), value='oc.laedaporous-ITS1-F.ab1…"
      ]
     },
     "metadata": {},
     "output_type": "display_data"
    }
   ],
   "source": [
    "import os\n",
    "from ipywidgets import widgets\n",
    "\n",
    "sequence_dropdown = widgets.Dropdown(options=os.listdir('./trace_files'))\n",
    "display(sequence_dropdown)"
   ]
  },
  {
   "cell_type": "markdown",
   "metadata": {},
   "source": [
    "Let's take a look at some of the annotation data in the file."
   ]
  },
  {
   "cell_type": "code",
   "execution_count": 3,
   "metadata": {},
   "outputs": [],
   "source": [
    "import pandas as pd\n",
    "from Bio import SeqIO\n",
    "\n",
    "selected_file = sequence_dropdown.value\n",
    "selected_file_path = './trace_files/{}'.format(selected_file)"
   ]
  },
  {
   "cell_type": "code",
   "execution_count": 4,
   "metadata": {},
   "outputs": [
    {
     "data": {
      "text/html": [
       "<div>\n",
       "<style scoped>\n",
       "    .dataframe tbody tr th:only-of-type {\n",
       "        vertical-align: middle;\n",
       "    }\n",
       "\n",
       "    .dataframe tbody tr th {\n",
       "        vertical-align: top;\n",
       "    }\n",
       "\n",
       "    .dataframe thead th {\n",
       "        text-align: right;\n",
       "    }\n",
       "</style>\n",
       "<table border=\"1\" class=\"dataframe\">\n",
       "  <thead>\n",
       "    <tr style=\"text-align: right;\">\n",
       "      <th></th>\n",
       "      <th>Value</th>\n",
       "    </tr>\n",
       "  </thead>\n",
       "  <tbody>\n",
       "    <tr>\n",
       "      <th>sample_well</th>\n",
       "      <td>b'D11'</td>\n",
       "    </tr>\n",
       "    <tr>\n",
       "      <th>dye</th>\n",
       "      <td>b'Z-BigDyeV3'</td>\n",
       "    </tr>\n",
       "    <tr>\n",
       "      <th>polymer</th>\n",
       "      <td>b'POP7                            '</td>\n",
       "    </tr>\n",
       "    <tr>\n",
       "      <th>machine_model</th>\n",
       "      <td>b'3730'</td>\n",
       "    </tr>\n",
       "    <tr>\n",
       "      <th>run_start</th>\n",
       "      <td>2020-11-25 20:47:19</td>\n",
       "    </tr>\n",
       "    <tr>\n",
       "      <th>run_finish</th>\n",
       "      <td>2020-11-25 22:03:24</td>\n",
       "    </tr>\n",
       "    <tr>\n",
       "      <th>abif_raw</th>\n",
       "      <td>{'AEPt1': 9925, 'AEPt2': 9925, 'APFN2': b'KBan...</td>\n",
       "    </tr>\n",
       "    <tr>\n",
       "      <th>molecule_type</th>\n",
       "      <td>DNA</td>\n",
       "    </tr>\n",
       "  </tbody>\n",
       "</table>\n",
       "</div>"
      ],
      "text/plain": [
       "                                                           Value\n",
       "sample_well                                               b'D11'\n",
       "dye                                                b'Z-BigDyeV3'\n",
       "polymer                      b'POP7                            '\n",
       "machine_model                                            b'3730'\n",
       "run_start                                    2020-11-25 20:47:19\n",
       "run_finish                                   2020-11-25 22:03:24\n",
       "abif_raw       {'AEPt1': 9925, 'AEPt2': 9925, 'APFN2': b'KBan...\n",
       "molecule_type                                                DNA"
      ]
     },
     "metadata": {},
     "output_type": "display_data"
    }
   ],
   "source": [
    "chromatogram = SeqIO.read(selected_file_path, 'abi')\n",
    "\n",
    "annotations_df = pd.DataFrame.from_dict(chromatogram.annotations,\n",
    "                                        orient='index',\n",
    "                                        columns=['Value'])\n",
    "display(annotations_df)"
   ]
  },
  {
   "cell_type": "markdown",
   "metadata": {},
   "source": [
    "The chromatogram data lives in the `abif_raw` row. Let's take a closer look."
   ]
  },
  {
   "cell_type": "code",
   "execution_count": 5,
   "metadata": {},
   "outputs": [
    {
     "data": {
      "text/plain": [
       "dict_keys(['AEPt1', 'AEPt2', 'APFN2', 'APXV1', 'APrN1', 'APrV1', 'APrX1', 'ARTN1', 'ASPF1', 'ASPt1', 'ASPt2', 'AUDT1', 'B1Pt1', 'B1Pt2', 'BCTS1', 'BufT1', 'CMNT1', 'CTID1', 'CTNM1', 'CTOw1', 'CTTL1', 'CpEP1', 'DATA1', 'DATA2', 'DATA3', 'DATA4', 'DATA5', 'DATA6', 'DATA7', 'DATA8', 'DATA9', 'DATA10', 'DATA11', 'DATA12', 'DCHT1', 'DSam1', 'DySN1', 'Dye#1', 'DyeN1', 'DyeN2', 'DyeN3', 'DyeN4', 'DyeW1', 'DyeW2', 'DyeW3', 'DyeW4', 'EPVt1', 'EVNT1', 'EVNT2', 'EVNT3', 'EVNT4', 'FTab1', 'FVoc1', 'FWO_1', 'Feat1', 'GTyp1', 'HCFG1', 'HCFG2', 'HCFG3', 'HCFG4', 'InSc1', 'InVt1', 'LANE1', 'LIMS1', 'LNTD1', 'LsrP1', 'MCHN1', 'MODF1', 'MODL1', 'NAVG1', 'NLNE1', 'NOIS1', 'PBAS1', 'PBAS2', 'PCON1', 'PCON2', 'PDMF1', 'PDMF2', 'PLOC1', 'PLOC2', 'PSZE1', 'PTYP1', 'PXLB1', 'RGNm1', 'RGOw1', 'RMXV1', 'RMdN1', 'RMdV1', 'RMdX1', 'RPrN1', 'RPrV1', 'RUND1', 'RUND2', 'RUND3', 'RUND4', 'RUNT1', 'RUNT2', 'RUNT3', 'RUNT4', 'Rate1', 'RunN1', 'S/N%1', 'SCAN1', 'SMED1', 'SMLt1', 'SMPL1', 'SPAC1', 'SPAC2', 'SPAC3', 'SVER1', 'SVER2', 'SVER3', 'Scal1', 'Scan1', 'TUBE1', 'Tmpr1', 'User1', 'phAR1', 'phCH1', 'phDY1', 'phQL1', 'phTR1', 'phTR2'])"
      ]
     },
     "execution_count": 5,
     "metadata": {},
     "output_type": "execute_result"
    }
   ],
   "source": [
    "annotations_df.loc['abif_raw']['Value'].keys()"
   ]
  },
  {
   "cell_type": "markdown",
   "metadata": {},
   "source": [
    "To make sense of these fields within the raw abi data, we can refer to the [ABIF File Format spec](docs/ABIF_File_Format.pdf).\n",
    "\n",
    "Here is a more human-readable summary of some additional info found in the raw data."
   ]
  },
  {
   "cell_type": "code",
   "execution_count": 6,
   "metadata": {},
   "outputs": [
    {
     "data": {
      "text/html": [
       "<div>\n",
       "<style scoped>\n",
       "    .dataframe tbody tr th:only-of-type {\n",
       "        vertical-align: middle;\n",
       "    }\n",
       "\n",
       "    .dataframe tbody tr th {\n",
       "        vertical-align: top;\n",
       "    }\n",
       "\n",
       "    .dataframe thead th {\n",
       "        text-align: right;\n",
       "    }\n",
       "</style>\n",
       "<table border=\"1\" class=\"dataframe\">\n",
       "  <thead>\n",
       "    <tr style=\"text-align: right;\">\n",
       "      <th></th>\n",
       "      <th>Raw Data Fields</th>\n",
       "    </tr>\n",
       "  </thead>\n",
       "  <tbody>\n",
       "    <tr>\n",
       "      <th>User</th>\n",
       "      <td>b'genewiz'</td>\n",
       "    </tr>\n",
       "    <tr>\n",
       "      <th>Stop Point</th>\n",
       "      <td>9925</td>\n",
       "    </tr>\n",
       "    <tr>\n",
       "      <th>Start Point</th>\n",
       "      <td>1730</td>\n",
       "    </tr>\n",
       "    <tr>\n",
       "      <th>Peak Area Ratio</th>\n",
       "      <td>-1</td>\n",
       "    </tr>\n",
       "    <tr>\n",
       "      <th>Peak Spacing</th>\n",
       "      <td>14.2801</td>\n",
       "    </tr>\n",
       "    <tr>\n",
       "      <th>Max Quality Value</th>\n",
       "      <td>99</td>\n",
       "    </tr>\n",
       "    <tr>\n",
       "      <th>Last Successful Analysis</th>\n",
       "      <td>b'2020-11-25 22:08:05 -05:00'</td>\n",
       "    </tr>\n",
       "    <tr>\n",
       "      <th>Signal Level for Each Dye</th>\n",
       "      <td>(1514, 1845, 2257, 2273)</td>\n",
       "    </tr>\n",
       "    <tr>\n",
       "      <th>Sample Comment</th>\n",
       "      <td>b'2377975-D11-JoshMcGinnis-30-449493217-JM7'</td>\n",
       "    </tr>\n",
       "    <tr>\n",
       "      <th>Container ID</th>\n",
       "      <td>b'09A000036479'</td>\n",
       "    </tr>\n",
       "    <tr>\n",
       "      <th>Container Name</th>\n",
       "      <td>b'2377975'</td>\n",
       "    </tr>\n",
       "    <tr>\n",
       "      <th>Container Owner</th>\n",
       "      <td>b'genewiz'</td>\n",
       "    </tr>\n",
       "  </tbody>\n",
       "</table>\n",
       "</div>"
      ],
      "text/plain": [
       "                                                        Raw Data Fields\n",
       "User                                                         b'genewiz'\n",
       "Stop Point                                                         9925\n",
       "Start Point                                                        1730\n",
       "Peak Area Ratio                                                      -1\n",
       "Peak Spacing                                                    14.2801\n",
       "Max Quality Value                                                    99\n",
       "Last Successful Analysis                  b'2020-11-25 22:08:05 -05:00'\n",
       "Signal Level for Each Dye                      (1514, 1845, 2257, 2273)\n",
       "Sample Comment             b'2377975-D11-JoshMcGinnis-30-449493217-JM7'\n",
       "Container ID                                            b'09A000036479'\n",
       "Container Name                                               b'2377975'\n",
       "Container Owner                                              b'genewiz'"
      ]
     },
     "execution_count": 6,
     "metadata": {},
     "output_type": "execute_result"
    }
   ],
   "source": [
    "abif_raw = annotations_df.loc['abif_raw']['Value']\n",
    "pd.DataFrame.from_dict({\n",
    "  'User':                      abif_raw['User1'],\n",
    "  'Stop Point':                abif_raw['AEPt1'],\n",
    "  'Start Point':               abif_raw['ASPt1'],\n",
    "  'Peak Area Ratio':           abif_raw['phAR1'],\n",
    "  'Peak Spacing':              abif_raw['SPAC3'],\n",
    "  'Max Quality Value':         abif_raw['phQL1'],\n",
    "  'Last Successful Analysis':  abif_raw['BCTS1'],\n",
    "  'Signal Level for Each Dye': abif_raw['S/N%1'],\n",
    "  'Sample Comment':            abif_raw['CMNT1'],\n",
    "  'Container ID':              abif_raw['CTID1'],\n",
    "  'Container Name':            abif_raw['CTNM1'],\n",
    "  'Container Owner':           abif_raw['CTOw1']},\n",
    "    orient='index',\n",
    "    columns=['Raw Data Fields'])"
   ]
  },
  {
   "cell_type": "markdown",
   "metadata": {},
   "source": [
    "### Now let's take a look at the sequence data"
   ]
  },
  {
   "cell_type": "code",
   "execution_count": 7,
   "metadata": {},
   "outputs": [
    {
     "name": "stdout",
     "output_type": "stream",
     "text": [
      "# Bases: 601\n"
     ]
    },
    {
     "data": {
      "text/plain": [
       "'N N N N G N N T C N G T N G G T G A C N N C G G A N G G A N A T T A T A G A G T T T T C T A A A C T C C C A A C C C A T G T G A A C T T A C C A T T G T T G C C T C G G C A G A A G C T G C T C G G T G C A C C C T A C C T T G G A A C G G C C T A C C C T G T A G C G C C T T A C C C T G G A A C G G C T T A C C C T G T A A C G G C T G C C G G T G G A C T A C C A A A C T C T T G T T A T T T T A T T G T A A T C T G A G C G T C T T A T T C T A A T A A G T C A A A A C T T T C A A C A A C G G A T C T C T T G G T T C T G G C A T C G A T G A A G A A C G C A G C G A A A T G C G A T A A G T A A T G T G A A T T G C A G A A T T C A G T G A A T C A T C G A A T C T T T G A A C G C A C A T T G C G C C C A T T A G T A T T C T A G T G G G C A T G C C T G T T C G A G C G T C A T T T C A A C C C T T A A G C C T A G C T T A G T G T T G G G A G C C T A C T G C T T T T G C T A G C T G T A G C T C C T G A A A T A C A A C G G C G G A T C T G C G A T A T C C T C T G A G C G T A G T A A A T T T T T A T C T C G C T T T T G A C T G G A G T T G C A G C G T C T T T G G C C G C T A A A T C C C C C A A T T T T T A A T G G T T G A C C T C G G A T C A G G T A G G A A T A C C C G C T G A A C T T A A G C A T A T C A N N N'"
      ]
     },
     "execution_count": 7,
     "metadata": {},
     "output_type": "execute_result"
    }
   ],
   "source": [
    "sequence = abif_raw['PBAS1']\n",
    "print('# Bases: {}'.format(len(sequence)))\n",
    "' '.join(list(sequence.decode('UTF-8')))"
   ]
  },
  {
   "cell_type": "markdown",
   "metadata": {},
   "source": [
    "Let's take a look at the Phred (_quality_) scores for the first 50 base pairs."
   ]
  },
  {
   "cell_type": "code",
   "execution_count": 18,
   "metadata": {},
   "outputs": [
    {
     "data": {
      "application/vnd.jupyter.widget-view+json": {
       "model_id": "71483b5f14d94a888dab66d75a363e0e",
       "version_major": 2,
       "version_minor": 0
      },
      "text/plain": [
       "Canvas(toolbar=Toolbar(toolitems=[('Home', 'Reset original view', 'home', 'home'), ('Back', 'Back to previous …"
      ]
     },
     "metadata": {},
     "output_type": "display_data"
    }
   ],
   "source": [
    "%matplotlib widget\n",
    "\n",
    "import matplotlib.pyplot as plt\n",
    "from matplotlib.widgets import Slider\n",
    "\n",
    "fig = plt.figure(figsize=(12,2.5))\n",
    "\n",
    "# position the main graph and slider boxes\n",
    "main_axis = plt.axes([0.06, 0.37, 0.75, 0.50]) # left body width height\n",
    "slider_axis = plt.axes([0.06, 0.13, 0.75, 0.06])\n",
    "\n",
    "seq = list(sequence[0:50].decode('UTF-8'))\n",
    "seq_len = len(seq)\n",
    "quality_scores = chromatogram.letter_annotations['phred_quality'][0:50]\n",
    "\n",
    "# create a bar chart using the main axis\n",
    "plt.axes(main_axis)\n",
    "plt.xticks(ticks=range(seq_len), labels=seq)\n",
    "plt.yticks([0, 20, 40, 60])\n",
    "plt.xlim(0)\n",
    "plt.ylim(min(quality_scores), max(quality_scores) + 10)\n",
    "\n",
    "main_bar = plt.bar(range(seq_len), quality_scores,\n",
    "                   align='edge', width=.90, color='#777')\n",
    "\n",
    "# make the slider\n",
    "q_slider = Slider(ax=slider_axis,\n",
    "                  label='Scroll', \n",
    "                  valmin=0, \n",
    "                  valmax=seq_len,\n",
    "                  valinit=10,\n",
    "                  valstep=1,\n",
    "                  color='green'\n",
    "                 )\n",
    "\n",
    "def update(val):\n",
    "    main_bar.set_ydata(20)\n",
    "    fig.canvas.draw_idle()\n",
    "\n",
    "q_slider.on_changed(update)\n",
    "\n",
    "plt.show()"
   ]
  },
  {
   "cell_type": "code",
   "execution_count": null,
   "metadata": {},
   "outputs": [],
   "source": []
  }
 ],
 "metadata": {
  "kernelspec": {
   "display_name": "Python 3",
   "language": "python",
   "name": "python3"
  },
  "language_info": {
   "codemirror_mode": {
    "name": "ipython",
    "version": 3
   },
   "file_extension": ".py",
   "mimetype": "text/x-python",
   "name": "python",
   "nbconvert_exporter": "python",
   "pygments_lexer": "ipython3",
   "version": "3.8.5"
  },
  "widgets": {
   "application/vnd.jupyter.widget-state+json": {
    "state": {
     "018216c2e4d34bb1b0f06c2a0ed4932a": {
      "model_module": "@jupyter-widgets/base",
      "model_module_version": "1.2.0",
      "model_name": "LayoutModel",
      "state": {}
     },
     "30a2f43fbc3e42459dc7473bd13db524": {
      "model_module": "jupyter-matplotlib",
      "model_module_version": "^0.7.4",
      "model_name": "ToolbarModel",
      "state": {
       "layout": "IPY_MODEL_018216c2e4d34bb1b0f06c2a0ed4932a",
       "toolitems": [
        [
         "Home",
         "Reset original view",
         "home",
         "home"
        ],
        [
         "Back",
         "Back to previous view",
         "arrow-left",
         "back"
        ],
        [
         "Forward",
         "Forward to next view",
         "arrow-right",
         "forward"
        ],
        [
         "Pan",
         "Left button pans, Right button zooms\nx/y fixes axis, CTRL fixes aspect",
         "arrows",
         "pan"
        ],
        [
         "Zoom",
         "Zoom to rectangle\nx/y fixes axis, CTRL fixes aspect",
         "square-o",
         "zoom"
        ],
        [
         "Download",
         "Download plot",
         "floppy-o",
         "save_figure"
        ]
       ]
      }
     },
     "34dadbce02cd4d72a99a0bd14b5c1c32": {
      "model_module": "jupyter-matplotlib",
      "model_module_version": "^0.7.4",
      "model_name": "ToolbarModel",
      "state": {
       "layout": "IPY_MODEL_4ae18ba5c9b34afba1becbb16896a921",
       "toolitems": [
        [
         "Home",
         "Reset original view",
         "home",
         "home"
        ],
        [
         "Back",
         "Back to previous view",
         "arrow-left",
         "back"
        ],
        [
         "Forward",
         "Forward to next view",
         "arrow-right",
         "forward"
        ],
        [
         "Pan",
         "Left button pans, Right button zooms\nx/y fixes axis, CTRL fixes aspect",
         "arrows",
         "pan"
        ],
        [
         "Zoom",
         "Zoom to rectangle\nx/y fixes axis, CTRL fixes aspect",
         "square-o",
         "zoom"
        ],
        [
         "Download",
         "Download plot",
         "floppy-o",
         "save_figure"
        ]
       ]
      }
     },
     "35f44759ed2a48818e6ac59212f2c42c": {
      "model_module": "@jupyter-widgets/base",
      "model_module_version": "1.2.0",
      "model_name": "LayoutModel",
      "state": {}
     },
     "405220dbeb2b4e79ba171fbbc99b56ae": {
      "model_module": "jupyter-matplotlib",
      "model_module_version": "^0.7.4",
      "model_name": "ToolbarModel",
      "state": {
       "layout": "IPY_MODEL_7f0e16f9821747548c715166f2d044cb",
       "toolitems": [
        [
         "Home",
         "Reset original view",
         "home",
         "home"
        ],
        [
         "Back",
         "Back to previous view",
         "arrow-left",
         "back"
        ],
        [
         "Forward",
         "Forward to next view",
         "arrow-right",
         "forward"
        ],
        [
         "Pan",
         "Left button pans, Right button zooms\nx/y fixes axis, CTRL fixes aspect",
         "arrows",
         "pan"
        ],
        [
         "Zoom",
         "Zoom to rectangle\nx/y fixes axis, CTRL fixes aspect",
         "square-o",
         "zoom"
        ],
        [
         "Download",
         "Download plot",
         "floppy-o",
         "save_figure"
        ]
       ]
      }
     },
     "4ae18ba5c9b34afba1becbb16896a921": {
      "model_module": "@jupyter-widgets/base",
      "model_module_version": "1.2.0",
      "model_name": "LayoutModel",
      "state": {}
     },
     "54735e62457f4002988bde7efcd40512": {
      "model_module": "@jupyter-widgets/base",
      "model_module_version": "1.2.0",
      "model_name": "LayoutModel",
      "state": {}
     },
     "56674c5ef9d14d3c88e361df3b2666e1": {
      "model_module": "@jupyter-widgets/base",
      "model_module_version": "1.2.0",
      "model_name": "LayoutModel",
      "state": {}
     },
     "5abe4be1ed114385b589cbbd24627cff": {
      "model_module": "@jupyter-widgets/base",
      "model_module_version": "1.2.0",
      "model_name": "LayoutModel",
      "state": {}
     },
     "68c7a5e12e7142c8a6ad82b86bab31a8": {
      "model_module": "@jupyter-widgets/base",
      "model_module_version": "1.2.0",
      "model_name": "LayoutModel",
      "state": {}
     },
     "71483b5f14d94a888dab66d75a363e0e": {
      "model_module": "jupyter-matplotlib",
      "model_module_version": "^0.7.4",
      "model_name": "MPLCanvasModel",
      "state": {
       "_cursor": "default",
       "_figure_label": "Figure 1",
       "_height": 250,
       "_width": 1200,
       "layout": "IPY_MODEL_56674c5ef9d14d3c88e361df3b2666e1",
       "toolbar": "IPY_MODEL_405220dbeb2b4e79ba171fbbc99b56ae",
       "toolbar_position": "left"
      }
     },
     "736da689a1e34702abbffefe2c75454b": {
      "model_module": "@jupyter-widgets/base",
      "model_module_version": "1.2.0",
      "model_name": "LayoutModel",
      "state": {}
     },
     "7aabe296b828407b8d437b7667082bca": {
      "model_module": "jupyter-matplotlib",
      "model_module_version": "^0.7.4",
      "model_name": "ToolbarModel",
      "state": {
       "layout": "IPY_MODEL_54735e62457f4002988bde7efcd40512",
       "toolitems": [
        [
         "Home",
         "Reset original view",
         "home",
         "home"
        ],
        [
         "Back",
         "Back to previous view",
         "arrow-left",
         "back"
        ],
        [
         "Forward",
         "Forward to next view",
         "arrow-right",
         "forward"
        ],
        [
         "Pan",
         "Left button pans, Right button zooms\nx/y fixes axis, CTRL fixes aspect",
         "arrows",
         "pan"
        ],
        [
         "Zoom",
         "Zoom to rectangle\nx/y fixes axis, CTRL fixes aspect",
         "square-o",
         "zoom"
        ],
        [
         "Download",
         "Download plot",
         "floppy-o",
         "save_figure"
        ]
       ]
      }
     },
     "7cbf80d8878049beb1719960d6e9abd8": {
      "model_module": "jupyter-matplotlib",
      "model_module_version": "^0.7.4",
      "model_name": "ToolbarModel",
      "state": {
       "layout": "IPY_MODEL_5abe4be1ed114385b589cbbd24627cff",
       "toolitems": [
        [
         "Home",
         "Reset original view",
         "home",
         "home"
        ],
        [
         "Back",
         "Back to previous view",
         "arrow-left",
         "back"
        ],
        [
         "Forward",
         "Forward to next view",
         "arrow-right",
         "forward"
        ],
        [
         "Pan",
         "Left button pans, Right button zooms\nx/y fixes axis, CTRL fixes aspect",
         "arrows",
         "pan"
        ],
        [
         "Zoom",
         "Zoom to rectangle\nx/y fixes axis, CTRL fixes aspect",
         "square-o",
         "zoom"
        ],
        [
         "Download",
         "Download plot",
         "floppy-o",
         "save_figure"
        ]
       ]
      }
     },
     "7f0e16f9821747548c715166f2d044cb": {
      "model_module": "@jupyter-widgets/base",
      "model_module_version": "1.2.0",
      "model_name": "LayoutModel",
      "state": {}
     },
     "83da9ad728ce42ecad4f3fc593bc1abb": {
      "model_module": "@jupyter-widgets/base",
      "model_module_version": "1.2.0",
      "model_name": "LayoutModel",
      "state": {}
     },
     "899c47761be94795a9f4276eefbc1d34": {
      "model_module": "@jupyter-widgets/base",
      "model_module_version": "1.2.0",
      "model_name": "LayoutModel",
      "state": {}
     },
     "8bfff1c131b94009bed10fc4fa0d752f": {
      "model_module": "@jupyter-widgets/base",
      "model_module_version": "1.2.0",
      "model_name": "LayoutModel",
      "state": {}
     },
     "9373d070db424b53a6bb0dcb53795264": {
      "model_module": "@jupyter-widgets/base",
      "model_module_version": "1.2.0",
      "model_name": "LayoutModel",
      "state": {}
     },
     "986e3d6ad357406d852be3990af48810": {
      "model_module": "@jupyter-widgets/base",
      "model_module_version": "1.2.0",
      "model_name": "LayoutModel",
      "state": {}
     },
     "9ac223926f1147c0a5efd25c61124378": {
      "model_module": "@jupyter-widgets/base",
      "model_module_version": "1.2.0",
      "model_name": "LayoutModel",
      "state": {}
     },
     "bc70a674af38457bbb476e818eddf7be": {
      "model_module": "@jupyter-widgets/base",
      "model_module_version": "1.2.0",
      "model_name": "LayoutModel",
      "state": {}
     },
     "bcfd066ad7eb409997080c0dd9af6381": {
      "model_module": "jupyter-matplotlib",
      "model_module_version": "^0.7.4",
      "model_name": "ToolbarModel",
      "state": {
       "layout": "IPY_MODEL_9373d070db424b53a6bb0dcb53795264",
       "toolitems": [
        [
         "Home",
         "Reset original view",
         "home",
         "home"
        ],
        [
         "Back",
         "Back to previous view",
         "arrow-left",
         "back"
        ],
        [
         "Forward",
         "Forward to next view",
         "arrow-right",
         "forward"
        ],
        [
         "Pan",
         "Left button pans, Right button zooms\nx/y fixes axis, CTRL fixes aspect",
         "arrows",
         "pan"
        ],
        [
         "Zoom",
         "Zoom to rectangle\nx/y fixes axis, CTRL fixes aspect",
         "square-o",
         "zoom"
        ],
        [
         "Download",
         "Download plot",
         "floppy-o",
         "save_figure"
        ]
       ]
      }
     },
     "c0e768433a814124b0f201aae9489c19": {
      "model_module": "@jupyter-widgets/controls",
      "model_module_version": "1.5.0",
      "model_name": "DescriptionStyleModel",
      "state": {
       "description_width": ""
      }
     },
     "c3d706e1e2cf42da990ba22f8e382452": {
      "model_module": "@jupyter-widgets/controls",
      "model_module_version": "1.5.0",
      "model_name": "DropdownModel",
      "state": {
       "_options_labels": [
        "oc.laedaporous-ITS1-F.ab1",
        "pink.fuzzy.mold-ITS1-F.ab1"
       ],
       "index": 0,
       "layout": "IPY_MODEL_f6a7b79276484a98a3d17e9d26f4480e",
       "style": "IPY_MODEL_c0e768433a814124b0f201aae9489c19"
      }
     },
     "f6a7b79276484a98a3d17e9d26f4480e": {
      "model_module": "@jupyter-widgets/base",
      "model_module_version": "1.2.0",
      "model_name": "LayoutModel",
      "state": {}
     },
     "f9e3070700b04a68b7b3a74fb4c09d1e": {
      "model_module": "jupyter-matplotlib",
      "model_module_version": "^0.7.4",
      "model_name": "ToolbarModel",
      "state": {
       "layout": "IPY_MODEL_9ac223926f1147c0a5efd25c61124378",
       "toolitems": [
        [
         "Home",
         "Reset original view",
         "home",
         "home"
        ],
        [
         "Back",
         "Back to previous view",
         "arrow-left",
         "back"
        ],
        [
         "Forward",
         "Forward to next view",
         "arrow-right",
         "forward"
        ],
        [
         "Pan",
         "Left button pans, Right button zooms\nx/y fixes axis, CTRL fixes aspect",
         "arrows",
         "pan"
        ],
        [
         "Zoom",
         "Zoom to rectangle\nx/y fixes axis, CTRL fixes aspect",
         "square-o",
         "zoom"
        ],
        [
         "Download",
         "Download plot",
         "floppy-o",
         "save_figure"
        ]
       ]
      }
     },
     "fc7ec0e6a8a24ddbb9804e0f9339ac09": {
      "model_module": "jupyter-matplotlib",
      "model_module_version": "^0.7.4",
      "model_name": "ToolbarModel",
      "state": {
       "layout": "IPY_MODEL_35f44759ed2a48818e6ac59212f2c42c",
       "toolitems": [
        [
         "Home",
         "Reset original view",
         "home",
         "home"
        ],
        [
         "Back",
         "Back to previous view",
         "arrow-left",
         "back"
        ],
        [
         "Forward",
         "Forward to next view",
         "arrow-right",
         "forward"
        ],
        [
         "Pan",
         "Left button pans, Right button zooms\nx/y fixes axis, CTRL fixes aspect",
         "arrows",
         "pan"
        ],
        [
         "Zoom",
         "Zoom to rectangle\nx/y fixes axis, CTRL fixes aspect",
         "square-o",
         "zoom"
        ],
        [
         "Download",
         "Download plot",
         "floppy-o",
         "save_figure"
        ]
       ]
      }
     }
    },
    "version_major": 2,
    "version_minor": 0
   }
  }
 },
 "nbformat": 4,
 "nbformat_minor": 4
}
